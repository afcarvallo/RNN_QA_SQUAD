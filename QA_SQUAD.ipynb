{
  "nbformat": 4,
  "nbformat_minor": 0,
  "metadata": {
    "colab": {
      "name": "Tarea 2 parte 3 bien V2",
      "version": "0.3.2",
      "provenance": [],
      "collapsed_sections": []
    },
    "kernelspec": {
      "name": "python3",
      "display_name": "Python 3"
    },
    "accelerator": "GPU"
  },
  "cells": [
    {
      "metadata": {
        "id": "dvywQdOS12Ld",
        "colab_type": "code",
        "outputId": "b374402d-d052-4209-8474-4b64fb9122bb",
        "colab": {
          "base_uri": "https://localhost:8080/",
          "height": 52
        }
      },
      "cell_type": "code",
      "source": [
        "from keras import backend as K\n",
        "import scipy.io as sio\n",
        "from keras import Sequential\n",
        "from keras.layers.core import Dense, Activation, Dropout,Flatten\n",
        "from keras.layers import Conv2D, MaxPooling2D, ZeroPadding2D, Convolution2D, BatchNormalization, SimpleRNN, LSTM, Bidirectional\n",
        "import keras\n",
        "from keras import optimizers\n",
        "from google.colab import files\n",
        "from keras.preprocessing.image import ImageDataGenerator, array_to_img, img_to_array, load_img\n",
        "import os\n",
        "import matplotlib.pyplot as plt \n",
        "%matplotlib inline\n",
        "import numpy as np\n",
        "import time\n",
        "from sklearn import svm \n",
        "from sklearn import metrics\n",
        "import numpy as np\n",
        "import seaborn as sns\n",
        "from sklearn.metrics import accuracy_score\n",
        "from IPython.display import Image\n",
        "import pandas as pd\n",
        "from keras.utils import np_utils\n",
        "import pickle\n",
        "from keras.callbacks import ModelCheckpoint\n",
        "import sys \n",
        "import json\n",
        "import numpy as np\n",
        "import random\n",
        "import re \n",
        "from keras import backend as K\n",
        "import scipy.io as sio\n",
        "from keras import Sequential\n",
        "from keras.layers.core import Dense, Activation, Dropout,Flatten\n",
        "\n",
        "# chequeamos que funcione GPU \n",
        "K.tensorflow_backend._get_available_gpus()\n"
      ],
      "execution_count": 0,
      "outputs": [
        {
          "output_type": "stream",
          "text": [
            "Using TensorFlow backend.\n"
          ],
          "name": "stderr"
        },
        {
          "output_type": "execute_result",
          "data": {
            "text/plain": [
              "['/job:localhost/replica:0/task:0/device:GPU:0']"
            ]
          },
          "metadata": {
            "tags": []
          },
          "execution_count": 1
        }
      ]
    },
    {
      "metadata": {
        "id": "ZkOzRSWptnCE",
        "colab_type": "text"
      },
      "cell_type": "markdown",
      "source": [
        "Preprocesamiento de texto: <br>\n",
        "- Se crean listas con todos los contextos y todas las preguntas. \n",
        "- Se crean embeddings de 50 dimensiones con GloVe de cada palabra para cada contexto y cada pregunta. \n",
        "- Para las respuestas el label a predecir es la ubicación en el contexto donde se puede encontrar la respuesta, es decir START, END. \n",
        "- Donde START es el index dentro del contexto donde se puede encontrar la respuesta a la pregunta y END es donde termina. \n",
        "- El objetivo es que el modelo aprenda donde encontrar en el contexto la respuesta a las preguntas. \n",
        "- Notar que el dataset venia con el index de la letra donde se puede encontrar la respuesta, pero fue modificado para el index de la palabra. \n",
        "- Otro aspecto dentro del preprocesamiento es que se utiliza padding para que contextos y preguntas tengan el largo maximo 731 y 60 respectivamente. El resto se lleno con ceros. \n"
      ]
    },
    {
      "metadata": {
        "id": "lnaG4vq86WjX",
        "colab_type": "code",
        "outputId": "fa2dc381-4c9b-423a-fa36-1aef7bec9105",
        "colab": {
          "base_uri": "https://localhost:8080/",
          "height": 728
        }
      },
      "cell_type": "code",
      "source": [
        "!wget https://rajpurkar.github.io/SQuAD-explorer/dataset/train-v1.1.json \n",
        "!wget https://rajpurkar.github.io/SQuAD-explorer/dataset/dev-v1.1.json \n",
        "#!wget http://nlp.stanford.edu/data/wordvecs/glove.6B.zip\n",
        "#!unzip glove.6B.zip\n",
        "\n",
        "# glove dict 50d \n",
        "!wget https://www.dropbox.com/s/q6r421os6ike0fw/glovedict_50d.json.zip\n",
        "!unzip glovedict_50d.json.zip \n",
        "\n",
        "# glove dict \n",
        "#!wget https://www.dropbox.com/s/z4n4m00fjrdcaoy/glove_dict.json.zip\n",
        "#!unzip glove_dict.json.zip\n"
      ],
      "execution_count": 0,
      "outputs": [
        {
          "output_type": "stream",
          "text": [
            "--2018-06-04 21:45:44--  https://rajpurkar.github.io/SQuAD-explorer/dataset/train-v1.1.json\n",
            "Resolving rajpurkar.github.io (rajpurkar.github.io)... 185.199.108.153, 185.199.109.153, 185.199.110.153, ...\n",
            "Connecting to rajpurkar.github.io (rajpurkar.github.io)|185.199.108.153|:443... connected.\n",
            "HTTP request sent, awaiting response... 200 OK\n",
            "Length: 30288272 (29M) [application/json]\n",
            "Saving to: ‘train-v1.1.json’\n",
            "\n",
            "train-v1.1.json     100%[===================>]  28.88M  66.9MB/s    in 0.4s    \n",
            "\n",
            "2018-06-04 21:45:45 (66.9 MB/s) - ‘train-v1.1.json’ saved [30288272/30288272]\n",
            "\n",
            "--2018-06-04 21:45:46--  https://rajpurkar.github.io/SQuAD-explorer/dataset/dev-v1.1.json\n",
            "Resolving rajpurkar.github.io (rajpurkar.github.io)... 185.199.108.153, 185.199.109.153, 185.199.110.153, ...\n",
            "Connecting to rajpurkar.github.io (rajpurkar.github.io)|185.199.108.153|:443... connected.\n",
            "HTTP request sent, awaiting response... 200 OK\n",
            "Length: 4854279 (4.6M) [application/json]\n",
            "Saving to: ‘dev-v1.1.json’\n",
            "\n",
            "dev-v1.1.json       100%[===================>]   4.63M  22.9MB/s    in 0.2s    \n",
            "\n",
            "2018-06-04 21:45:46 (22.9 MB/s) - ‘dev-v1.1.json’ saved [4854279/4854279]\n",
            "\n",
            "--2018-06-04 21:45:47--  https://www.dropbox.com/s/q6r421os6ike0fw/glovedict_50d.json.zip\n",
            "Resolving www.dropbox.com (www.dropbox.com)... 162.125.7.1, 2620:100:601a:1::a27d:701\n",
            "Connecting to www.dropbox.com (www.dropbox.com)|162.125.7.1|:443... connected.\n",
            "HTTP request sent, awaiting response... 302 Found\n",
            "Location: https://dl.dropboxusercontent.com/content_link/duaRcklZeQzY7tQJCvSU30E4sBILNn5oDxI3bz16FYf62XZWTfMu3rwnr8lTv2rL/file [following]\n",
            "--2018-06-04 21:45:48--  https://dl.dropboxusercontent.com/content_link/duaRcklZeQzY7tQJCvSU30E4sBILNn5oDxI3bz16FYf62XZWTfMu3rwnr8lTv2rL/file\n",
            "Resolving dl.dropboxusercontent.com (dl.dropboxusercontent.com)... 162.125.7.6, 2620:100:601a:6::a27d:706\n",
            "Connecting to dl.dropboxusercontent.com (dl.dropboxusercontent.com)|162.125.7.6|:443... connected.\n",
            "HTTP request sent, awaiting response... 200 OK\n",
            "Length: 70940914 (68M) [application/zip]\n",
            "Saving to: ‘glovedict_50d.json.zip’\n",
            "\n",
            "glovedict_50d.json. 100%[===================>]  67.65M  44.4MB/s    in 1.5s    \n",
            "\n",
            "2018-06-04 21:45:50 (44.4 MB/s) - ‘glovedict_50d.json.zip’ saved [70940914/70940914]\n",
            "\n",
            "Archive:  glovedict_50d.json.zip\n",
            "  inflating: glovedict_50d.json      \n"
          ],
          "name": "stdout"
        }
      ]
    },
    {
      "metadata": {
        "id": "aMndxTw8hYoc",
        "colab_type": "code",
        "outputId": "ae14ce79-ba3a-44a9-c6fa-cd02e34ae179",
        "colab": {
          "base_uri": "https://localhost:8080/",
          "height": 52
        }
      },
      "cell_type": "code",
      "source": [
        "!ls"
      ],
      "execution_count": 0,
      "outputs": [
        {
          "output_type": "stream",
          "text": [
            "datalab        glovedict_50d.json      train-v1.1.json\r\n",
            "dev-v1.1.json  glovedict_50d.json.zip\r\n"
          ],
          "name": "stdout"
        }
      ]
    },
    {
      "metadata": {
        "id": "zomuibW2HdGy",
        "colab_type": "text"
      },
      "cell_type": "markdown",
      "source": [
        "# EMBEDDING OBTENTION LSTM "
      ]
    },
    {
      "metadata": {
        "id": "fhDTZpnt9KD4",
        "colab_type": "code",
        "colab": {}
      },
      "cell_type": "code",
      "source": [
        "import json\n",
        "#with open('glove_dict.json') as f:\n",
        " #   glove_dict = json.load(f)\n",
        "    \n",
        "with open('glovedict_50d.json') as f:\n",
        "    glove_dict50 = json.load(f)\n",
        "     \n",
        "    "
      ],
      "execution_count": 0,
      "outputs": []
    },
    {
      "metadata": {
        "id": "a2BER3bYHrh9",
        "colab_type": "text"
      },
      "cell_type": "markdown",
      "source": [
        "Funciones auxiliares:"
      ]
    },
    {
      "metadata": {
        "id": "veZS_CTGHke8",
        "colab_type": "code",
        "colab": {}
      },
      "cell_type": "code",
      "source": [
        "import keras\n",
        "import random\n",
        "from itertools import chain, repeat, islice\n",
        "\n",
        "def glove_embeddings(data):\n",
        "    result = []\n",
        "    for word in data.split():\n",
        "        if word in glove_dict:\n",
        "          result.append(glove_dict[word])\n",
        "        else:\n",
        "          result.append([random.random() for x in range(300)])\n",
        "    return result\n",
        "\n",
        "#recordar definir dict de 50 como glove_dict50\n",
        "def glove_embeddings50(data):\n",
        "    result = []\n",
        "    for word in data.split():\n",
        "        if word in glove_dict50:\n",
        "          result.append(glove_dict50[word])\n",
        "        else:\n",
        "          result.append([random.random() for x in range(50)])\n",
        "    return result\n",
        "  \n",
        "\n",
        "def context_obtention(filename):\n",
        "    texts = []\n",
        "    with open(filename, \"r\") as fh:\n",
        "        source = json.load(fh)\n",
        "        for article in source[\"data\"]:\n",
        "            for para in article[\"paragraphs\"]:\n",
        "                context = para[\"context\"].replace(\"''\", '\" ').replace(\"``\", '\" ')\n",
        "                texts.append(context.lower())\n",
        "    return texts\n",
        "\n",
        "def question_obtention(filename):\n",
        "    questions = []\n",
        "    with open('train-v1.1.json') as file:\n",
        "        source = json.load(file)\n",
        "        for article in source['data']:\n",
        "            for q in article['paragraphs']:\n",
        "                for question in q['qas']:\n",
        "                    questions.append(question['question'])\n",
        "    return questions\n",
        "\n",
        "def answers_index(filename):\n",
        "    answers_indx = {}\n",
        "    indx_answers = {}\n",
        "    list_indx = []\n",
        "\n",
        "    count = 0 \n",
        "\n",
        "    with open('train-v1.1.json') as file:\n",
        "        source = json.load(file)\n",
        "        for article in source['data']:\n",
        "            for q in article['paragraphs']:\n",
        "                for question in q['qas']:\n",
        "                    answers_indx[count] = question['answers'][0]['text']\n",
        "                    indx_answers[question['answers'][0]['text']] = count\n",
        "                    list_indx.append(count)\n",
        "                    count+=1\n",
        "                    \n",
        "    return answers_indx, indx_answers, list_indx\n",
        "\n",
        "def context_question_answer(filename):\n",
        "  result = []\n",
        "  with open('train-v1.1.json') as file:\n",
        "        source = json.load(file)\n",
        "        for article in source['data']:\n",
        "            for q in article['paragraphs']:\n",
        "              for question in q['qas']:\n",
        "                context = q[\"context\"].replace(\"''\", '\" ').replace(\"``\", '\" ').lower() \n",
        "                result.append([context, question['question'],question['answers'][0]['text']] )\n",
        "  return result\n",
        "\n",
        "def pad_infinite(iterable, padding=None):\n",
        "   return chain(iterable, repeat(padding))\n",
        "\n",
        "def pad(iterable, size, padding=None):\n",
        "   return islice(pad_infinite(iterable, padding), size)\n",
        "\n",
        "def indexword2letter(context, letter_index):\n",
        "    result = 0\n",
        "    cont = 0\n",
        "    letras = enumerate(context)\n",
        "    \n",
        "    for i,j in letras:\n",
        "        if j == ' ':\n",
        "            cont +=1\n",
        "            \n",
        "        if i == letter_index and cont>0:\n",
        "          result = cont\n",
        "          \n",
        "        if i == letter_index and cont ==0:\n",
        "          result = cont\n",
        "          \n",
        "    return result\n"
      ],
      "execution_count": 0,
      "outputs": []
    },
    {
      "metadata": {
        "id": "jLz0LBRMpHYl",
        "colab_type": "code",
        "outputId": "40b80705-ae63-4867-f0de-890642279b7c",
        "colab": {
          "base_uri": "https://localhost:8080/",
          "height": 69
        }
      },
      "cell_type": "code",
      "source": [
        "contexts = context_obtention(\"train-v1.1.json\")\n",
        "print('total contextos: {}'.format(len(contexts)))\n",
        "\n",
        "questions = question_obtention(\"train-v1.1.json\")\n",
        "print('total preguntas: {}'.format(len(questions)))\n",
        "\n",
        "# index para cada pregunta para pasarlo a numero en la clasificacion \n",
        "answers_indx, indx_answer, list_indx = answers_index(\"train-v1.1.json\")\n",
        "print('total respuestas: {}'.format(len(answers_indx)))"
      ],
      "execution_count": 0,
      "outputs": [
        {
          "output_type": "stream",
          "text": [
            "total contextos: 18896\n",
            "total preguntas: 87599\n",
            "total respuestas: 87599\n"
          ],
          "name": "stdout"
        }
      ]
    },
    {
      "metadata": {
        "id": "kCPl-aC8RYpz",
        "colab_type": "code",
        "colab": {}
      },
      "cell_type": "code",
      "source": [
        "import time\n",
        "filename = 'train-v1.1.json'\n",
        "\n",
        "total = 0\n",
        "\n",
        "data = list()\n",
        "\n",
        "cont = \"\"\n",
        "preg = \"\"\n",
        "resp1 = \"\"\n",
        "resp2 = \"\"\n",
        "\n",
        "train_set = list()\n",
        "train_set_label = list()\n",
        "\n",
        "train_set_context = list()\n",
        "train_set_question = list()\n",
        "\n",
        "contador = 0;\n",
        "\n",
        "with open(filename, \"r\") as fh:\n",
        "    source = json.load(fh)\n",
        "    for article in source[\"data\"]:\n",
        "        for para in article[\"paragraphs\"]:\n",
        "            \n",
        "            context_text = para[\"context\"].replace(\"''\", '\" ').replace(\"``\", '\" ').replace(')','').replace('(','')\n",
        "            cont = np.asarray(glove_embeddings50(context_text))\n",
        "            \n",
        "            for qa in para[\"qas\"]:\n",
        "                total += 1\n",
        "                preg = np.asarray(glove_embeddings50(qa[\"question\"].replace(\"''\", '\" ').replace(\"``\", '\" ')))    \n",
        "                y1s, y2s = [], []\n",
        "                answer_texts = []\n",
        "                for answer in qa[\"answers\"]:\n",
        "                  answer_text = answer[\"text\"]\n",
        "                  answer_start = indexword2letter(para['context'], answer['answer_start'])  \n",
        "                  answer_end = answer_start + len(answer_text)\n",
        "                  y1s = answer_start\n",
        "                  y2s = answer_end\n",
        "             \n",
        "                train_set_context.append(np.asarray(cont))\n",
        "                train_set_question.append(np.asarray(preg))\n",
        "                train_set_label.append(y1s)\n",
        "      \n",
        "      \n",
        "train_set_context = np.asarray(train_set_context)\n",
        "train_set_question = np.asarray(train_set_question)\n",
        "train_set_label = np.asarray(train_set_label)"
      ],
      "execution_count": 0,
      "outputs": []
    },
    {
      "metadata": {
        "id": "UFxkDWMdVgpq",
        "colab_type": "code",
        "outputId": "75f2fd22-97d0-4a1f-d37d-332beeeb237b",
        "colab": {
          "base_uri": "https://localhost:8080/",
          "height": 69
        }
      },
      "cell_type": "code",
      "source": [
        "# obtenemos tamano maximo de palabras contexto \n",
        "filename = 'train-v1.1.json'\n",
        "\n",
        "tamano_de_palabras_contextos = []\n",
        "\n",
        "with open(filename, \"r\") as fh:\n",
        "  source = json.load(fh) \n",
        "  for article in source[\"data\"]:\n",
        "    for para in article[\"paragraphs\"]:\n",
        "      tamano_de_palabras_contextos.append(len(para[\"context\"].replace(\"''\", '\" ').replace(\"``\", '\" ').replace(\"?\",\" ?\").replace(\".\", \" .\").replace(\",\", \" ,\").split()))\n",
        "max_tamano_de_palabras_contextos = max(tamano_de_palabras_contextos)\n",
        "\n",
        "\n",
        "# obtenemos tamano maximo de palabras preguntas \n",
        "tamano_de_palabras_preguntas = []\n",
        "\n",
        "with open(filename, \"r\") as fh:\n",
        "  source = json.load(fh) \n",
        "  for article in source[\"data\"]:\n",
        "    for para in article[\"paragraphs\"]:\n",
        "      for qa in para[\"qas\"]:\n",
        "        tamano_de_palabras_preguntas.append(len(qa[\"question\"].replace(\"''\", '\" ').replace(\"``\", '\" ').replace(\"?\",\" ?\").replace(\".\", \" .\").replace(\",\", \" ,\").split()))\n",
        "max_tamano_de_palabras_preguntas = max(tamano_de_palabras_preguntas)\n",
        "\n",
        "\n",
        "# obtenemos tamano maximo de palabras respuestas \n",
        "tamano_de_palabras_respuestas = []\n",
        "\n",
        "print(\"Contexto maximo de palabras:\",max_tamano_de_palabras_contextos)\n",
        "print(\"Preguntas maximo de palabras:\",max_tamano_de_palabras_preguntas)\n"
      ],
      "execution_count": 0,
      "outputs": [
        {
          "output_type": "stream",
          "text": [
            "Contexto maximo de palabras: 731\n",
            "Preguntas maximo de palabras: 60\n",
            "Respuestas maximo de palabras: 60\n"
          ],
          "name": "stdout"
        }
      ]
    },
    {
      "metadata": {
        "id": "9rTR_Po-68ep",
        "colab_type": "code",
        "colab": {}
      },
      "cell_type": "code",
      "source": [
        "from keras.preprocessing.sequence import pad_sequences,TimeseriesGenerator\n",
        "from keras.utils import to_categorical\n",
        "import itertools\n",
        "\n",
        "sequences_context = train_set_context\n",
        "sequences_questions = train_set_question\n",
        "\n",
        "def generator(data1, data2, labels, batch_size):\n",
        "  contador_generator=0\n",
        "  samples_per_epoch = data1.shape[0] #data1 y 2 son del mismo tamaño\n",
        "  number_of_batches = samples_per_epoch/batch_size\n",
        "  labels = to_categorical(labels)\n",
        "  \n",
        "  for contador_generator in itertools.cycle(range(0,int(87599/batch_size))):\n",
        "    batch1 = pad_sequences(data1[batch_size*contador_generator:batch_size*(contador_generator+1)], maxlen=max_tamano_de_palabras_contextos, dtype='float', padding='post', truncating='post', value=np.zeros(50))\n",
        "    batch2 = pad_sequences(data2[batch_size*contador_generator:batch_size*(contador_generator+1)], maxlen=max_tamano_de_palabras_preguntas, dtype='float', padding='post', truncating='post', value=np.zeros(50))\n",
        "    batch_label = labels[batch_size*contador_generator:batch_size*(contador_generator+1)]\n",
        "    \n",
        "    #contador_generator = contador_generator + 1\n",
        "    yield [batch1,batch2],batch_label \n",
        "\n",
        "    #restart counter to yeild data in the next epoch as well\n",
        "    if contador_generator >= number_of_batches:\n",
        "        contador_generator = 0\n",
        "\n",
        "\n",
        "    \n",
        "aas = generator(train_set_context,train_set_question, train_set_label, 32)\n",
        "\n",
        "\n",
        "def testmodel(epoch, logs):\n",
        "    x, y = next(aas)\n",
        "    predout = model.predict(x, batch_size=32)\n",
        "    print('Target: {} Prediccion: {}'.format(np.argmax(y), np.argmax(predout)))"
      ],
      "execution_count": 0,
      "outputs": []
    },
    {
      "metadata": {
        "id": "7zUaEs0LGEJV",
        "colab_type": "code",
        "outputId": "c95d3b32-d344-4807-f40c-b40024a00e1c",
        "colab": {
          "base_uri": "https://localhost:8080/",
          "height": 1533
        }
      },
      "cell_type": "code",
      "source": [
        "from keras.models import Sequential\n",
        "from keras.layers import Merge, Activation, Dense, Concatenate, InputLayer, CuDNNLSTM\n",
        "from keras.layers.recurrent import LSTM\n",
        "from keras import optimizers\n",
        "\n",
        "from keras.layers.embeddings import Embedding\n",
        "from keras.layers import Masking\n",
        "\n",
        "batch_size = 800\n",
        "timesteps_contexto = max_tamano_de_palabras_contextos\n",
        "timesteps_pregunta = max_tamano_de_palabras_preguntas\n",
        "input_dim = 50 #por glove dict 50\n",
        "\n",
        "optimizer = optimizers.Adam(lr=0.001)\n",
        "\n",
        "left = Sequential()\n",
        "left.add(CuDNNLSTM(input_shape=(max_tamano_de_palabras_contextos, input_dim),units=50)) #batch_input_shape=(1,1,4096) #(batch size,timesteps,feature shape)\n",
        "left.add(Activation('relu'))\n",
        "\n",
        "right = Sequential()\n",
        "right.add(CuDNNLSTM(input_shape=(max_tamano_de_palabras_preguntas, input_dim), units=50))\n",
        "left.add(Activation('relu'))\n",
        "\n",
        "model = Sequential()\n",
        "model.add(Merge([left, right],mode='concat'))\n",
        "model.add(Activation('relu'))\n",
        " \n",
        "model.add(Dense(497))\n",
        "model.add(Activation('softmax'))\n",
        "\n",
        "model.compile(loss='categorical_crossentropy',optimizer= optimizer, metrics=['accuracy'])\n",
        "\n",
        "# Callback para mostrar predicciones \n",
        "testmodelcb = keras.callbacks.LambdaCallback(on_epoch_end=testmodel)\n",
        "\n",
        "step_per_epocas = len(answers_indx)/batch_size\n",
        "\n",
        "model.fit_generator(aas, steps_per_epoch=step_per_epocas, epochs = 100, callbacks=[testmodelcb])\n"
      ],
      "execution_count": 0,
      "outputs": [
        {
          "output_type": "stream",
          "text": [
            "/usr/local/lib/python3.6/dist-packages/ipykernel_launcher.py:25: UserWarning: The `Merge` layer is deprecated and will be removed after 08/2017. Use instead layers from `keras.layers.merge`, e.g. `add`, `concatenate`, etc.\n"
          ],
          "name": "stderr"
        },
        {
          "output_type": "stream",
          "text": [
            "Epoch 1/100\n",
            "110/109 [==============================] - 12s 107ms/step - loss: 5.4356 - acc: 0.0227\n",
            "Target: 13 Prediccion: 497\n",
            "Epoch 2/100\n",
            "110/109 [==============================] - 11s 99ms/step - loss: 4.9448 - acc: 0.0270\n",
            "Target: 70 Prediccion: 497\n",
            "Epoch 3/100\n",
            "110/109 [==============================] - 11s 98ms/step - loss: 4.9688 - acc: 0.0202\n",
            "Target: 21 Prediccion: 994\n",
            "Epoch 4/100\n",
            " 50/109 [============>.................] - ETA: 5s - loss: 5.0341 - acc: 0.0081"
          ],
          "name": "stdout"
        },
        {
          "output_type": "stream",
          "text": [
            "110/109 [==============================] - 11s 97ms/step - loss: 5.0285 - acc: 0.0142\n",
            "Target: 61 Prediccion: 5964\n",
            "Epoch 5/100\n",
            "110/109 [==============================] - 11s 97ms/step - loss: 4.9345 - acc: 0.0216\n",
            "Target: 56 Prediccion: 8449\n",
            "Epoch 6/100\n",
            "110/109 [==============================] - 11s 98ms/step - loss: 4.9886 - acc: 0.0205\n",
            "Target: 12 Prediccion: 13916\n",
            "Epoch 7/100\n",
            " 66/109 [=================>............] - ETA: 4s - loss: 4.9314 - acc: 0.0317"
          ],
          "name": "stdout"
        },
        {
          "output_type": "stream",
          "text": [
            "110/109 [==============================] - 11s 97ms/step - loss: 4.9476 - acc: 0.0267\n",
            "Target: 49 Prediccion: 11928\n",
            "Epoch 8/100\n",
            "110/109 [==============================] - 11s 98ms/step - loss: 4.9929 - acc: 0.0134\n",
            "Target: 39 Prediccion: 10438\n",
            "Epoch 9/100\n",
            " 77/109 [====================>.........] - ETA: 3s - loss: 4.9481 - acc: 0.0264"
          ],
          "name": "stdout"
        },
        {
          "output_type": "error",
          "ename": "KeyboardInterrupt",
          "evalue": "ignored",
          "traceback": [
            "\u001b[0;31m---------------------------------------------------------------------------\u001b[0m",
            "\u001b[0;31mKeyboardInterrupt\u001b[0m                         Traceback (most recent call last)",
            "\u001b[0;32m<ipython-input-23-31ef2061a80b>\u001b[0m in \u001b[0;36m<module>\u001b[0;34m()\u001b[0m\n\u001b[1;32m     36\u001b[0m \u001b[0mstep_per_epocas\u001b[0m \u001b[0;34m=\u001b[0m \u001b[0mlen\u001b[0m\u001b[0;34m(\u001b[0m\u001b[0manswers_indx\u001b[0m\u001b[0;34m)\u001b[0m\u001b[0;34m/\u001b[0m\u001b[0mbatch_size\u001b[0m\u001b[0;34m\u001b[0m\u001b[0m\n\u001b[1;32m     37\u001b[0m \u001b[0;34m\u001b[0m\u001b[0m\n\u001b[0;32m---> 38\u001b[0;31m \u001b[0mmodel\u001b[0m\u001b[0;34m.\u001b[0m\u001b[0mfit_generator\u001b[0m\u001b[0;34m(\u001b[0m\u001b[0maas\u001b[0m\u001b[0;34m,\u001b[0m \u001b[0msteps_per_epoch\u001b[0m\u001b[0;34m=\u001b[0m\u001b[0mstep_per_epocas\u001b[0m\u001b[0;34m,\u001b[0m \u001b[0mepochs\u001b[0m \u001b[0;34m=\u001b[0m \u001b[0;36m100\u001b[0m\u001b[0;34m,\u001b[0m \u001b[0mcallbacks\u001b[0m\u001b[0;34m=\u001b[0m\u001b[0;34m[\u001b[0m\u001b[0mtestmodelcb\u001b[0m\u001b[0;34m]\u001b[0m\u001b[0;34m)\u001b[0m\u001b[0;34m\u001b[0m\u001b[0m\n\u001b[0m",
            "\u001b[0;32m/usr/local/lib/python3.6/dist-packages/keras/legacy/interfaces.py\u001b[0m in \u001b[0;36mwrapper\u001b[0;34m(*args, **kwargs)\u001b[0m\n\u001b[1;32m     89\u001b[0m                 warnings.warn('Update your `' + object_name +\n\u001b[1;32m     90\u001b[0m                               '` call to the Keras 2 API: ' + signature, stacklevel=2)\n\u001b[0;32m---> 91\u001b[0;31m             \u001b[0;32mreturn\u001b[0m \u001b[0mfunc\u001b[0m\u001b[0;34m(\u001b[0m\u001b[0;34m*\u001b[0m\u001b[0margs\u001b[0m\u001b[0;34m,\u001b[0m \u001b[0;34m**\u001b[0m\u001b[0mkwargs\u001b[0m\u001b[0;34m)\u001b[0m\u001b[0;34m\u001b[0m\u001b[0m\n\u001b[0m\u001b[1;32m     92\u001b[0m         \u001b[0mwrapper\u001b[0m\u001b[0;34m.\u001b[0m\u001b[0m_original_function\u001b[0m \u001b[0;34m=\u001b[0m \u001b[0mfunc\u001b[0m\u001b[0;34m\u001b[0m\u001b[0m\n\u001b[1;32m     93\u001b[0m         \u001b[0;32mreturn\u001b[0m \u001b[0mwrapper\u001b[0m\u001b[0;34m\u001b[0m\u001b[0m\n",
            "\u001b[0;32m/usr/local/lib/python3.6/dist-packages/keras/models.py\u001b[0m in \u001b[0;36mfit_generator\u001b[0;34m(self, generator, steps_per_epoch, epochs, verbose, callbacks, validation_data, validation_steps, class_weight, max_queue_size, workers, use_multiprocessing, shuffle, initial_epoch)\u001b[0m\n\u001b[1;32m   1313\u001b[0m                                         \u001b[0muse_multiprocessing\u001b[0m\u001b[0;34m=\u001b[0m\u001b[0muse_multiprocessing\u001b[0m\u001b[0;34m,\u001b[0m\u001b[0;34m\u001b[0m\u001b[0m\n\u001b[1;32m   1314\u001b[0m                                         \u001b[0mshuffle\u001b[0m\u001b[0;34m=\u001b[0m\u001b[0mshuffle\u001b[0m\u001b[0;34m,\u001b[0m\u001b[0;34m\u001b[0m\u001b[0m\n\u001b[0;32m-> 1315\u001b[0;31m                                         initial_epoch=initial_epoch)\n\u001b[0m\u001b[1;32m   1316\u001b[0m \u001b[0;34m\u001b[0m\u001b[0m\n\u001b[1;32m   1317\u001b[0m     \u001b[0;34m@\u001b[0m\u001b[0minterfaces\u001b[0m\u001b[0;34m.\u001b[0m\u001b[0mlegacy_generator_methods_support\u001b[0m\u001b[0;34m\u001b[0m\u001b[0m\n",
            "\u001b[0;32m/usr/local/lib/python3.6/dist-packages/keras/legacy/interfaces.py\u001b[0m in \u001b[0;36mwrapper\u001b[0;34m(*args, **kwargs)\u001b[0m\n\u001b[1;32m     89\u001b[0m                 warnings.warn('Update your `' + object_name +\n\u001b[1;32m     90\u001b[0m                               '` call to the Keras 2 API: ' + signature, stacklevel=2)\n\u001b[0;32m---> 91\u001b[0;31m             \u001b[0;32mreturn\u001b[0m \u001b[0mfunc\u001b[0m\u001b[0;34m(\u001b[0m\u001b[0;34m*\u001b[0m\u001b[0margs\u001b[0m\u001b[0;34m,\u001b[0m \u001b[0;34m**\u001b[0m\u001b[0mkwargs\u001b[0m\u001b[0;34m)\u001b[0m\u001b[0;34m\u001b[0m\u001b[0m\n\u001b[0m\u001b[1;32m     92\u001b[0m         \u001b[0mwrapper\u001b[0m\u001b[0;34m.\u001b[0m\u001b[0m_original_function\u001b[0m \u001b[0;34m=\u001b[0m \u001b[0mfunc\u001b[0m\u001b[0;34m\u001b[0m\u001b[0m\n\u001b[1;32m     93\u001b[0m         \u001b[0;32mreturn\u001b[0m \u001b[0mwrapper\u001b[0m\u001b[0;34m\u001b[0m\u001b[0m\n",
            "\u001b[0;32m/usr/local/lib/python3.6/dist-packages/keras/engine/training.py\u001b[0m in \u001b[0;36mfit_generator\u001b[0;34m(self, generator, steps_per_epoch, epochs, verbose, callbacks, validation_data, validation_steps, class_weight, max_queue_size, workers, use_multiprocessing, shuffle, initial_epoch)\u001b[0m\n\u001b[1;32m   2228\u001b[0m                     outs = self.train_on_batch(x, y,\n\u001b[1;32m   2229\u001b[0m                                                \u001b[0msample_weight\u001b[0m\u001b[0;34m=\u001b[0m\u001b[0msample_weight\u001b[0m\u001b[0;34m,\u001b[0m\u001b[0;34m\u001b[0m\u001b[0m\n\u001b[0;32m-> 2230\u001b[0;31m                                                class_weight=class_weight)\n\u001b[0m\u001b[1;32m   2231\u001b[0m \u001b[0;34m\u001b[0m\u001b[0m\n\u001b[1;32m   2232\u001b[0m                     \u001b[0;32mif\u001b[0m \u001b[0;32mnot\u001b[0m \u001b[0misinstance\u001b[0m\u001b[0;34m(\u001b[0m\u001b[0mouts\u001b[0m\u001b[0;34m,\u001b[0m \u001b[0mlist\u001b[0m\u001b[0;34m)\u001b[0m\u001b[0;34m:\u001b[0m\u001b[0;34m\u001b[0m\u001b[0m\n",
            "\u001b[0;32m/usr/local/lib/python3.6/dist-packages/keras/engine/training.py\u001b[0m in \u001b[0;36mtrain_on_batch\u001b[0;34m(self, x, y, sample_weight, class_weight)\u001b[0m\n\u001b[1;32m   1881\u001b[0m             \u001b[0mins\u001b[0m \u001b[0;34m=\u001b[0m \u001b[0mx\u001b[0m \u001b[0;34m+\u001b[0m \u001b[0my\u001b[0m \u001b[0;34m+\u001b[0m \u001b[0msample_weights\u001b[0m\u001b[0;34m\u001b[0m\u001b[0m\n\u001b[1;32m   1882\u001b[0m         \u001b[0mself\u001b[0m\u001b[0;34m.\u001b[0m\u001b[0m_make_train_function\u001b[0m\u001b[0;34m(\u001b[0m\u001b[0;34m)\u001b[0m\u001b[0;34m\u001b[0m\u001b[0m\n\u001b[0;32m-> 1883\u001b[0;31m         \u001b[0moutputs\u001b[0m \u001b[0;34m=\u001b[0m \u001b[0mself\u001b[0m\u001b[0;34m.\u001b[0m\u001b[0mtrain_function\u001b[0m\u001b[0;34m(\u001b[0m\u001b[0mins\u001b[0m\u001b[0;34m)\u001b[0m\u001b[0;34m\u001b[0m\u001b[0m\n\u001b[0m\u001b[1;32m   1884\u001b[0m         \u001b[0;32mif\u001b[0m \u001b[0mlen\u001b[0m\u001b[0;34m(\u001b[0m\u001b[0moutputs\u001b[0m\u001b[0;34m)\u001b[0m \u001b[0;34m==\u001b[0m \u001b[0;36m1\u001b[0m\u001b[0;34m:\u001b[0m\u001b[0;34m\u001b[0m\u001b[0m\n\u001b[1;32m   1885\u001b[0m             \u001b[0;32mreturn\u001b[0m \u001b[0moutputs\u001b[0m\u001b[0;34m[\u001b[0m\u001b[0;36m0\u001b[0m\u001b[0;34m]\u001b[0m\u001b[0;34m\u001b[0m\u001b[0m\n",
            "\u001b[0;32m/usr/local/lib/python3.6/dist-packages/keras/backend/tensorflow_backend.py\u001b[0m in \u001b[0;36m__call__\u001b[0;34m(self, inputs)\u001b[0m\n\u001b[1;32m   2478\u001b[0m             \u001b[0mfeed_dict\u001b[0m\u001b[0;34m[\u001b[0m\u001b[0mtensor\u001b[0m\u001b[0;34m]\u001b[0m \u001b[0;34m=\u001b[0m \u001b[0mvalue\u001b[0m\u001b[0;34m\u001b[0m\u001b[0m\n\u001b[1;32m   2479\u001b[0m         \u001b[0mfetches\u001b[0m \u001b[0;34m=\u001b[0m \u001b[0mself\u001b[0m\u001b[0;34m.\u001b[0m\u001b[0moutputs\u001b[0m \u001b[0;34m+\u001b[0m \u001b[0;34m[\u001b[0m\u001b[0mself\u001b[0m\u001b[0;34m.\u001b[0m\u001b[0mupdates_op\u001b[0m\u001b[0;34m]\u001b[0m \u001b[0;34m+\u001b[0m \u001b[0mself\u001b[0m\u001b[0;34m.\u001b[0m\u001b[0mfetches\u001b[0m\u001b[0;34m\u001b[0m\u001b[0m\n\u001b[0;32m-> 2480\u001b[0;31m         \u001b[0msession\u001b[0m \u001b[0;34m=\u001b[0m \u001b[0mget_session\u001b[0m\u001b[0;34m(\u001b[0m\u001b[0;34m)\u001b[0m\u001b[0;34m\u001b[0m\u001b[0m\n\u001b[0m\u001b[1;32m   2481\u001b[0m         updated = session.run(fetches=fetches, feed_dict=feed_dict,\n\u001b[1;32m   2482\u001b[0m                               **self.session_kwargs)\n",
            "\u001b[0;32m/usr/local/lib/python3.6/dist-packages/keras/backend/tensorflow_backend.py\u001b[0m in \u001b[0;36mget_session\u001b[0;34m()\u001b[0m\n\u001b[1;32m    185\u001b[0m             \u001b[0mcandidate_vars\u001b[0m \u001b[0;34m=\u001b[0m \u001b[0;34m[\u001b[0m\u001b[0;34m]\u001b[0m\u001b[0;34m\u001b[0m\u001b[0m\n\u001b[1;32m    186\u001b[0m             \u001b[0;32mfor\u001b[0m \u001b[0mv\u001b[0m \u001b[0;32min\u001b[0m \u001b[0mvariables\u001b[0m\u001b[0;34m:\u001b[0m\u001b[0;34m\u001b[0m\u001b[0m\n\u001b[0;32m--> 187\u001b[0;31m                 \u001b[0;32mif\u001b[0m \u001b[0;32mnot\u001b[0m \u001b[0mgetattr\u001b[0m\u001b[0;34m(\u001b[0m\u001b[0mv\u001b[0m\u001b[0;34m,\u001b[0m \u001b[0;34m'_keras_initialized'\u001b[0m\u001b[0;34m,\u001b[0m \u001b[0;32mFalse\u001b[0m\u001b[0;34m)\u001b[0m\u001b[0;34m:\u001b[0m\u001b[0;34m\u001b[0m\u001b[0m\n\u001b[0m\u001b[1;32m    188\u001b[0m                     \u001b[0mcandidate_vars\u001b[0m\u001b[0;34m.\u001b[0m\u001b[0mappend\u001b[0m\u001b[0;34m(\u001b[0m\u001b[0mv\u001b[0m\u001b[0;34m)\u001b[0m\u001b[0;34m\u001b[0m\u001b[0m\n\u001b[1;32m    189\u001b[0m             \u001b[0;32mif\u001b[0m \u001b[0mcandidate_vars\u001b[0m\u001b[0;34m:\u001b[0m\u001b[0;34m\u001b[0m\u001b[0m\n",
            "\u001b[0;31mKeyboardInterrupt\u001b[0m: "
          ]
        }
      ]
    },
    {
      "metadata": {
        "id": "87BKxTWNaRLZ",
        "colab_type": "code",
        "colab": {}
      },
      "cell_type": "code",
      "source": [
        "!rm LSTM_P3.png"
      ],
      "execution_count": 0,
      "outputs": []
    },
    {
      "metadata": {
        "id": "WIwUMUTL5jjs",
        "colab_type": "code",
        "outputId": "26444803-6a58-46fa-c181-61e717051f2b",
        "colab": {
          "base_uri": "https://localhost:8080/",
          "height": 585
        }
      },
      "cell_type": "code",
      "source": [
        "#from IPython.display import Image\n",
        "#files.upload()\n",
        "Image('LSTM_P3_.png')"
      ],
      "execution_count": 0,
      "outputs": [
        {
          "output_type": "execute_result",
          "data": {
            "image/png": "[encoded data removed]",
            "text/plain": [
              "<IPython.core.display.Image object>"
            ]
          },
          "metadata": {
            "tags": []
          },
          "execution_count": 6
        }
      ]
    },
    {
      "metadata": {
        "id": "HECuYnHVlj2w",
        "colab_type": "text"
      },
      "cell_type": "markdown",
      "source": [
        "- Le entregamos los embeddings obtenidos con GloVe de los contextos y las preguntas a dos modelos LSTM respectivamente.\n",
        "- Le hacemos padding con vectores de 0, 50 dimensiones a ambos para que queden todos los mismo largo. \n",
        "- Concatenamos los modelos LSTM de contexto y de preguntas. \n",
        "- Metemos ese input a una LSTM para generar las predicciones del index dentro del contexto donde empieza (START) y donde termina (END) la respuesta a la pregunta. (como se menciono antes en el procesamiento de texto)"
      ]
    },
    {
      "metadata": {
        "id": "eAY15ZcQmDpb",
        "colab_type": "text"
      },
      "cell_type": "markdown",
      "source": [
        "### Actividad 9: Validacion"
      ]
    },
    {
      "metadata": {
        "id": "6zEqNLM7J3fy",
        "colab_type": "code",
        "colab": {}
      },
      "cell_type": "code",
      "source": [
        "import time\n",
        "filename_test = 'dev-v1.1.json'\n",
        "\n",
        "total = 0\n",
        "\n",
        "data = list()\n",
        "\n",
        "cont = \"\"\n",
        "preg = \"\"\n",
        "resp1 = \"\"\n",
        "resp2 = \"\"\n",
        "\n",
        "test_set = list()\n",
        "test_set_label = list()\n",
        "\n",
        "test_set_context = list()\n",
        "test_set_question = list()\n",
        "\n",
        "contador = 0;\n",
        "\n",
        "with open(filename_test, \"r\") as fh:\n",
        "    source = json.load(fh)\n",
        "    for article in source[\"data\"]:\n",
        "        for para in article[\"paragraphs\"]:\n",
        "            cont = np.asarray(glove_embeddings50(para[\"context\"].replace(\"''\", '\" ').replace(\"``\", '\" ')))\n",
        "            \n",
        "            for qa in para[\"qas\"]:\n",
        "                total += 1\n",
        "                preg = np.asarray(glove_embeddings50(qa[\"question\"].replace(\"''\", '\" ').replace(\"``\", '\" ')))    \n",
        "                y1s, y2s = [], []\n",
        "                answer_texts = []\n",
        "                for answer in qa[\"answers\"]:\n",
        "                    answer_text = answer[\"text\"]\n",
        "                    answer_start = answer['answer_start']\n",
        "                    answer_end = answer_start + len(answer_text)\n",
        "                    y1s = answer_start\n",
        "                    y2s = answer_end\n",
        "\n",
        "                test_set_context.append(np.asarray(cont))\n",
        "                test_set_question.append(np.asarray(preg))\n",
        "                test_set_label.append(y1s)\n",
        "      \n",
        "      \n",
        "test_set_context = np.asarray(test_set_context)\n",
        "test_set_question = np.asarray(test_set_question)\n",
        "test_set_label = np.asarray(test_set_label)"
      ],
      "execution_count": 0,
      "outputs": []
    },
    {
      "metadata": {
        "id": "xAa2Lybs1wes",
        "colab_type": "text"
      },
      "cell_type": "markdown",
      "source": [
        "Funciones de validacion:"
      ]
    },
    {
      "metadata": {
        "id": "_jPok9FR1zkr",
        "colab_type": "code",
        "colab": {}
      },
      "cell_type": "code",
      "source": [
        "from collections import Counter\n",
        "import string\n",
        "import re\n",
        "import argparse\n",
        "import json\n",
        "import sys\n",
        "\n",
        "def f1_score(prediction, ground_truth):\n",
        "    common = Counter(prediction) & Counter(ground_truth)\n",
        "    num_same = sum(common.values())\n",
        "    if num_same == 0:\n",
        "        return 0\n",
        "    precision = 1.0 * num_same / len(prediction)\n",
        "    recall = 1.0 * num_same / len(ground_truth)\n",
        "    f1 = (2 * precision * recall) / (precision + recall)\n",
        "    return f1\n",
        "\n",
        "def exact_match_score(prediction, ground_truth):\n",
        "    return prediction == ground_truth\n"
      ],
      "execution_count": 0,
      "outputs": []
    },
    {
      "metadata": {
        "id": "9-EADpoj10_k",
        "colab_type": "code",
        "colab": {}
      },
      "cell_type": "code",
      "source": [
        "filename= 'dev-v1.1.json'\n",
        "\n",
        "context_test = test_set_context\n",
        "question_test = test_set_question\n",
        "label_test = test_set_label\n",
        "\n",
        "prediction_start = []\n",
        "target_start = []\n",
        "\n",
        "prediction_end = []\n",
        "target_end = []\n",
        "\n",
        "exact_matches_start = 0\n",
        "exact_matches_end = 0\n",
        "\n",
        "test_sample = len(label_test)\n",
        "\n",
        "for x in range(test_sample):\n",
        "  x, y = next(aas)\n",
        "  predout1 = model.predict(x[0], batch_size=251)\n",
        "  prediction_start.append(np.argmax(predout1))\n",
        "  target_start.append(np.argmax(y[0]))\n",
        "  \n",
        "  predout2 = model.predict(x[1], batch_size=251)\n",
        "  prediction_end.append(np.argmax(predout2))\n",
        "  target_end.append(np.argmax(y[1]))\n",
        "  \n",
        "  \n",
        "  if np.argmax(y) == np.argmax(predout):\n",
        "    exact_matches_start += 1\n",
        "  \n",
        "  if np.argmax(y) == np.argmax(predout):\n",
        "    exact_matches_end += 1\n",
        "  \n",
        "  "
      ],
      "execution_count": 0,
      "outputs": []
    },
    {
      "metadata": {
        "id": "TR9fVX_y19L1",
        "colab_type": "code",
        "colab": {}
      },
      "cell_type": "code",
      "source": [
        "print('f1 score: {}'.format(f1_score(prediction, target)))\n",
        "print('exact_match score: {}'.format(exact_matches/test_sample))"
      ],
      "execution_count": 0,
      "outputs": []
    }
  ]
}